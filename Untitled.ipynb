{
 "cells": [
  {
   "cell_type": "code",
   "execution_count": null,
   "id": "95ea3707",
   "metadata": {},
   "outputs": [],
   "source": [
    "#code to read CSV files and remove large digits only until 4 digts and also negative valeu converted into postivie."
   ]
  },
  {
   "cell_type": "code",
   "execution_count": null,
   "id": "e6936080",
   "metadata": {},
   "outputs": [],
   "source": [
    "import os\n",
    "import pandas as pd\n",
    "import numpy as np\n",
    "\n",
    "# Define the main directory containing subfolders with CSV files\n",
    "main_directory = \"C:/Users/RAJESH KUMAR/Desktop/avalues extravtion/New_EXP_Values_PlotsTEN - Copy\"\n",
    "\n",
    "# Function to process each CSV file\n",
    "def process_csv(file_path):\n",
    "    try:\n",
    "        # Read the CSV file\n",
    "        df = pd.read_csv(file_path)\n",
    "\n",
    "        # Iterate through columns to modify only numeric data\n",
    "        for col in df.select_dtypes(include=[np.number]).columns:\n",
    "            df[col] = df[col].abs()  # Convert negative values to positive\n",
    "            df[col] = df[col].round(4)  # Round decimal values to 4 digits\n",
    "\n",
    "        # Save the processed CSV file (overwrite the original)\n",
    "        df.to_csv(file_path, index=False)\n",
    "        print(f\"Processed: {file_path}\")\n",
    "\n",
    "    except Exception as e:\n",
    "        print(f\"Error processing {file_path}: {e}\")\n",
    "\n",
    "# Function to traverse folders and process all CSV files\n",
    "def process_all_csv_files(directory):\n",
    "    for root, _, files in os.walk(directory):\n",
    "        for file in files:\n",
    "            if file.endswith(\".csv\"):\n",
    "                file_path = os.path.join(root, file)\n",
    "                process_csv(file_path)\n",
    "\n",
    "# Run the script\n",
    "process_all_csv_files(main_directory)\n",
    "\n",
    "print(\"All CSV files processed successfully.\")\n"
   ]
  },
  {
   "cell_type": "code",
   "execution_count": null,
   "id": "2e79f71b",
   "metadata": {},
   "outputs": [],
   "source": []
  },
  {
   "cell_type": "code",
   "execution_count": null,
   "id": "d47e7689",
   "metadata": {},
   "outputs": [],
   "source": []
  }
 ],
 "metadata": {
  "kernelspec": {
   "display_name": "Python 3 (ipykernel)",
   "language": "python",
   "name": "python3"
  },
  "language_info": {
   "codemirror_mode": {
    "name": "ipython",
    "version": 3
   },
   "file_extension": ".py",
   "mimetype": "text/x-python",
   "name": "python",
   "nbconvert_exporter": "python",
   "pygments_lexer": "ipython3",
   "version": "3.9.7"
  }
 },
 "nbformat": 4,
 "nbformat_minor": 5
}
