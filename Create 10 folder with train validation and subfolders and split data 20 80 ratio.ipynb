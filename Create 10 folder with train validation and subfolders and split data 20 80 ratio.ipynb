{
 "cells": [
  {
   "cell_type": "code",
   "execution_count": 1,
   "id": "4bd8881a",
   "metadata": {},
   "outputs": [
    {
     "name": "stdout",
     "output_type": "stream",
     "text": [
      "Image distribution across ck+ folders is complete.\n"
     ]
    }
   ],
   "source": [
    "import os\n",
    "import random\n",
    "import shutil\n",
    "\n",
    "# Define the base folder path\n",
    "base_folder = 'CK+48'\n",
    "subfolders = [f for f in os.listdir(base_folder) if os.path.isdir(os.path.join(base_folder, f))]\n",
    "\n",
    "# Function to move images to training and validation\n",
    "def distribute_images(source_folder, train_folder, validation_folder):\n",
    "    for subfolder in subfolders:\n",
    "        src_subfolder = os.path.join(source_folder, subfolder)\n",
    "\n",
    "        if os.path.isdir(src_subfolder):\n",
    "            # Create corresponding subfolders in Training and Validation\n",
    "            train_subfolder = os.path.join(train_folder, subfolder)\n",
    "            validation_subfolder = os.path.join(validation_folder, subfolder)\n",
    "            os.makedirs(train_subfolder, exist_ok=True)\n",
    "            os.makedirs(validation_subfolder, exist_ok=True)\n",
    "\n",
    "            # List all image files in the subfolder\n",
    "            images = [img for img in os.listdir(src_subfolder) if os.path.isfile(os.path.join(src_subfolder, img))]\n",
    "\n",
    "            # Randomly split images (20% validation, 80% training)\n",
    "            num_validation = int(0.2 * len(images))\n",
    "            validation_images = random.sample(images, num_validation)\n",
    "\n",
    "            # Move images to their respective folders\n",
    "            for image in images:\n",
    "                src_path = os.path.join(src_subfolder, image)\n",
    "                if image in validation_images:\n",
    "                    dest_path = os.path.join(validation_subfolder, image)\n",
    "                else:\n",
    "                    dest_path = os.path.join(train_subfolder, image)\n",
    "                shutil.copy(src_path, dest_path)\n",
    "\n",
    "# Loop to create ck+1 to ck+10 and organize the images\n",
    "for i in range(1, 11):\n",
    "    new_folder = f'CK+48{i}'\n",
    "    os.makedirs(new_folder, exist_ok=True)\n",
    "\n",
    "    # Create Training and Validation folders\n",
    "    train_folder = os.path.join(new_folder, 'Training')\n",
    "    validation_folder = os.path.join(new_folder, 'Validation')\n",
    "    os.makedirs(train_folder, exist_ok=True)\n",
    "    os.makedirs(validation_folder, exist_ok=True)\n",
    "\n",
    "    # Distribute images in the new folder structure\n",
    "    distribute_images(base_folder, train_folder, validation_folder)\n",
    "\n",
    "print(\"Image distribution across ck+ folders is complete.\")\n"
   ]
  },
  {
   "cell_type": "code",
   "execution_count": null,
   "id": "fa0df5db",
   "metadata": {},
   "outputs": [],
   "source": []
  }
 ],
 "metadata": {
  "kernelspec": {
   "display_name": "Python 3 (ipykernel)",
   "language": "python",
   "name": "python3"
  },
  "language_info": {
   "codemirror_mode": {
    "name": "ipython",
    "version": 3
   },
   "file_extension": ".py",
   "mimetype": "text/x-python",
   "name": "python",
   "nbconvert_exporter": "python",
   "pygments_lexer": "ipython3",
   "version": "3.9.7"
  }
 },
 "nbformat": 4,
 "nbformat_minor": 5
}
