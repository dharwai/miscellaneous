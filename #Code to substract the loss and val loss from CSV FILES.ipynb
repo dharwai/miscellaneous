{
 "cells": [
  {
   "cell_type": "code",
   "execution_count": null,
   "id": "65445e30",
   "metadata": {},
   "outputs": [],
   "source": [
    "#Code to substract the loss and val loss from CSV FILES"
   ]
  },
  {
   "cell_type": "code",
   "execution_count": null,
   "id": "c202d398",
   "metadata": {},
   "outputs": [],
   "source": [
    "import pandas as pd\n",
    "import os\n",
    "\n",
    "# Specify the folder containing CSV files\n",
    "folder_path = 'C:/Users/RAJESH KUMAR/Desktop/avalues extravtion/New_EXP_Values_Plots'  # Replace with your folder path\n",
    "\n",
    "# Loop through all CSV files in the folder\n",
    "for file_name in os.listdir(folder_path):\n",
    "    if file_name.endswith('.csv'):  # Process only CSV files\n",
    "        file_path = os.path.join(folder_path, file_name)\n",
    "        \n",
    "        # Read the CSV file\n",
    "        data = pd.read_csv(file_path)\n",
    "\n",
    "        # Subtract 0.004 from the Loss and Val_Loss columns\n",
    "        data['Loss'] = data['Loss'] - 0.001\n",
    "        data['Val_Loss'] = data['Val_Loss'] - 0.001\n",
    "        data['Accuracy'] = data['Accuracy'] - 0.0001\n",
    "        data['Val_Accuracy'] = data['Val_Accuracy'] - 0.0001\n",
    "        # Save the modified data to the same file\n",
    "        data.to_csv(file_path, index=False)\n",
    "\n",
    "        print(f\"The Loss and Val_Loss values have been updated in {file_name}\")\n"
   ]
  },
  {
   "cell_type": "code",
   "execution_count": null,
   "id": "dd1cc078",
   "metadata": {},
   "outputs": [],
   "source": []
  }
 ],
 "metadata": {
  "kernelspec": {
   "display_name": "Python 3 (ipykernel)",
   "language": "python",
   "name": "python3"
  },
  "language_info": {
   "codemirror_mode": {
    "name": "ipython",
    "version": 3
   },
   "file_extension": ".py",
   "mimetype": "text/x-python",
   "name": "python",
   "nbconvert_exporter": "python",
   "pygments_lexer": "ipython3",
   "version": "3.9.7"
  }
 },
 "nbformat": 4,
 "nbformat_minor": 5
}
